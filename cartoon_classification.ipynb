{
 "cells": [
  {
   "cell_type": "code",
   "execution_count": 1,
   "id": "2202df9d-e347-4aab-aa48-339521162915",
   "metadata": {},
   "outputs": [
    {
     "name": "stdout",
     "output_type": "stream",
     "text": [
      "WARNING:tensorflow:From c:\\users\\admin\\appdata\\local\\programs\\python\\python39\\lib\\site-packages\\keras\\src\\losses.py:2976: The name tf.losses.sparse_softmax_cross_entropy is deprecated. Please use tf.compat.v1.losses.sparse_softmax_cross_entropy instead.\n",
      "\n"
     ]
    }
   ],
   "source": [
    "from keras.preprocessing import image\n",
    "import numpy as np\n",
    "import os\n",
    "from pathlib import Path\n",
    "import pandas as pd"
   ]
  },
  {
   "cell_type": "code",
   "execution_count": 2,
   "id": "75758c7b-c839-431b-b89e-d5ed2eb49d4f",
   "metadata": {},
   "outputs": [],
   "source": [
    "data = pd.read_csv('train.csv')"
   ]
  },
  {
   "cell_type": "code",
   "execution_count": 3,
   "id": "4f608543-c300-40ad-b060-b3a43664432a",
   "metadata": {},
   "outputs": [
    {
     "name": "stderr",
     "output_type": "stream",
     "text": [
      "c:\\users\\admin\\appdata\\local\\programs\\python\\python39\\lib\\site-packages\\PIL\\Image.py:970: UserWarning: Palette images with Transparency expressed in bytes should be converted to RGBA images\n",
      "  warnings.warn(\n"
     ]
    }
   ],
   "source": [
    "import matplotlib.pyplot as plt\n",
    "img_data = []\n",
    "labels = []\n",
    "for index, row in data.iterrows():\n",
    "    img = image.load_img('Images/'+row['ImageId'], target_size = (32, 32))\n",
    "    img_data.append(img)\n",
    "    labels.append(row['NameOfPokemon'])\n",
    "# print(img_data)\n",
    "# print(labels)\n",
    "# p = Path(\"Images\")\n",
    "# fold = p.glob(\"*.jpg\")\n",
    "# img_data = []\n",
    "# labels = []\n",
    "# for imge in fold:\n",
    "#     label = str(imge).split('\\\\')[-1]\n",
    "#     img = image.load_img(imge, target_size = (32, 32))\n",
    "#     img_data.append(img)\n",
    "#     labels.append(label)"
   ]
  },
  {
   "cell_type": "code",
   "execution_count": 4,
   "id": "e0516855-b8db-44bd-b843-fc1988c90fbc",
   "metadata": {},
   "outputs": [],
   "source": [
    "\"\"\" convert this into numpy array\"\"\"\n",
    "img_data = np.array(img_data, dtype = 'float32') / 255.0\n",
    "labels = np.array(labels)\n",
    "# print(img_data.shape, labels.shape)"
   ]
  },
  {
   "cell_type": "code",
   "execution_count": 5,
   "id": "d96c6032-77f4-4d4f-b691-a2b3dc2c0007",
   "metadata": {},
   "outputs": [],
   "source": [
    "#random"
   ]
  },
  {
   "cell_type": "code",
   "execution_count": 6,
   "id": "968800c6-a10a-4fad-9746-bd4d7b994ea5",
   "metadata": {},
   "outputs": [],
   "source": [
    "img_data = img_data.reshape(img_data.shape[0], -1)"
   ]
  },
  {
   "cell_type": "code",
   "execution_count": 7,
   "id": "ece65e18-627a-4893-95b4-5ddb9dea0e8c",
   "metadata": {},
   "outputs": [],
   "source": [
    "from sklearn import svm"
   ]
  },
  {
   "cell_type": "code",
   "execution_count": 8,
   "id": "a08101e7-5266-48ba-ae18-ac6f14c832fb",
   "metadata": {},
   "outputs": [],
   "source": [
    "#print(labels)\n",
    "#kernel='linear'"
   ]
  },
  {
   "cell_type": "code",
   "execution_count": 9,
   "id": "c2e980af-372b-45ba-9d14-87703149d35d",
   "metadata": {},
   "outputs": [
    {
     "data": {
      "text/html": [
       "<style>#sk-container-id-1 {color: black;}#sk-container-id-1 pre{padding: 0;}#sk-container-id-1 div.sk-toggleable {background-color: white;}#sk-container-id-1 label.sk-toggleable__label {cursor: pointer;display: block;width: 100%;margin-bottom: 0;padding: 0.3em;box-sizing: border-box;text-align: center;}#sk-container-id-1 label.sk-toggleable__label-arrow:before {content: \"▸\";float: left;margin-right: 0.25em;color: #696969;}#sk-container-id-1 label.sk-toggleable__label-arrow:hover:before {color: black;}#sk-container-id-1 div.sk-estimator:hover label.sk-toggleable__label-arrow:before {color: black;}#sk-container-id-1 div.sk-toggleable__content {max-height: 0;max-width: 0;overflow: hidden;text-align: left;background-color: #f0f8ff;}#sk-container-id-1 div.sk-toggleable__content pre {margin: 0.2em;color: black;border-radius: 0.25em;background-color: #f0f8ff;}#sk-container-id-1 input.sk-toggleable__control:checked~div.sk-toggleable__content {max-height: 200px;max-width: 100%;overflow: auto;}#sk-container-id-1 input.sk-toggleable__control:checked~label.sk-toggleable__label-arrow:before {content: \"▾\";}#sk-container-id-1 div.sk-estimator input.sk-toggleable__control:checked~label.sk-toggleable__label {background-color: #d4ebff;}#sk-container-id-1 div.sk-label input.sk-toggleable__control:checked~label.sk-toggleable__label {background-color: #d4ebff;}#sk-container-id-1 input.sk-hidden--visually {border: 0;clip: rect(1px 1px 1px 1px);clip: rect(1px, 1px, 1px, 1px);height: 1px;margin: -1px;overflow: hidden;padding: 0;position: absolute;width: 1px;}#sk-container-id-1 div.sk-estimator {font-family: monospace;background-color: #f0f8ff;border: 1px dotted black;border-radius: 0.25em;box-sizing: border-box;margin-bottom: 0.5em;}#sk-container-id-1 div.sk-estimator:hover {background-color: #d4ebff;}#sk-container-id-1 div.sk-parallel-item::after {content: \"\";width: 100%;border-bottom: 1px solid gray;flex-grow: 1;}#sk-container-id-1 div.sk-label:hover label.sk-toggleable__label {background-color: #d4ebff;}#sk-container-id-1 div.sk-serial::before {content: \"\";position: absolute;border-left: 1px solid gray;box-sizing: border-box;top: 0;bottom: 0;left: 50%;z-index: 0;}#sk-container-id-1 div.sk-serial {display: flex;flex-direction: column;align-items: center;background-color: white;padding-right: 0.2em;padding-left: 0.2em;position: relative;}#sk-container-id-1 div.sk-item {position: relative;z-index: 1;}#sk-container-id-1 div.sk-parallel {display: flex;align-items: stretch;justify-content: center;background-color: white;position: relative;}#sk-container-id-1 div.sk-item::before, #sk-container-id-1 div.sk-parallel-item::before {content: \"\";position: absolute;border-left: 1px solid gray;box-sizing: border-box;top: 0;bottom: 0;left: 50%;z-index: -1;}#sk-container-id-1 div.sk-parallel-item {display: flex;flex-direction: column;z-index: 1;position: relative;background-color: white;}#sk-container-id-1 div.sk-parallel-item:first-child::after {align-self: flex-end;width: 50%;}#sk-container-id-1 div.sk-parallel-item:last-child::after {align-self: flex-start;width: 50%;}#sk-container-id-1 div.sk-parallel-item:only-child::after {width: 0;}#sk-container-id-1 div.sk-dashed-wrapped {border: 1px dashed gray;margin: 0 0.4em 0.5em 0.4em;box-sizing: border-box;padding-bottom: 0.4em;background-color: white;}#sk-container-id-1 div.sk-label label {font-family: monospace;font-weight: bold;display: inline-block;line-height: 1.2em;}#sk-container-id-1 div.sk-label-container {text-align: center;}#sk-container-id-1 div.sk-container {/* jupyter's `normalize.less` sets `[hidden] { display: none; }` but bootstrap.min.css set `[hidden] { display: none !important; }` so we also need the `!important` here to be able to override the default hidden behavior on the sphinx rendered scikit-learn.org. See: https://github.com/scikit-learn/scikit-learn/issues/21755 */display: inline-block !important;position: relative;}#sk-container-id-1 div.sk-text-repr-fallback {display: none;}</style><div id=\"sk-container-id-1\" class=\"sk-top-container\"><div class=\"sk-text-repr-fallback\"><pre>SVC(kernel=&#x27;poly&#x27;)</pre><b>In a Jupyter environment, please rerun this cell to show the HTML representation or trust the notebook. <br />On GitHub, the HTML representation is unable to render, please try loading this page with nbviewer.org.</b></div><div class=\"sk-container\" hidden><div class=\"sk-item\"><div class=\"sk-estimator sk-toggleable\"><input class=\"sk-toggleable__control sk-hidden--visually\" id=\"sk-estimator-id-1\" type=\"checkbox\" checked><label for=\"sk-estimator-id-1\" class=\"sk-toggleable__label sk-toggleable__label-arrow\">SVC</label><div class=\"sk-toggleable__content\"><pre>SVC(kernel=&#x27;poly&#x27;)</pre></div></div></div></div></div>"
      ],
      "text/plain": [
       "SVC(kernel='poly')"
      ]
     },
     "execution_count": 9,
     "metadata": {},
     "output_type": "execute_result"
    }
   ],
   "source": [
    "svmm = svm.SVC(kernel='poly')\n",
    "svmm.fit(img_data, labels)"
   ]
  },
  {
   "cell_type": "code",
   "execution_count": 10,
   "id": "472dd39b-b4be-4458-a9bb-42034cad1289",
   "metadata": {},
   "outputs": [
    {
     "data": {
      "text/plain": [
       "0.9802631578947368"
      ]
     },
     "execution_count": 10,
     "metadata": {},
     "output_type": "execute_result"
    }
   ],
   "source": [
    "svmm.score(img_data, labels)"
   ]
  },
  {
   "cell_type": "code",
   "execution_count": 11,
   "id": "2ad5ea73-348e-4db3-afd2-6c36474353b9",
   "metadata": {},
   "outputs": [],
   "source": [
    "test_data = pd.read_csv('test.csv')\n"
   ]
  },
  {
   "cell_type": "code",
   "execution_count": 12,
   "id": "2aa73c21-c26e-4504-b1f0-fe4e96b440f4",
   "metadata": {},
   "outputs": [],
   "source": [
    "timg_data = []\n",
    "ref = []\n",
    "for index, row in test_data.iterrows():\n",
    "    img = image.load_img('Images/'+row['ImageId'], target_size = (32, 32))\n",
    "    ref.append(row['ImageId'])\n",
    "    timg_data.append(img)"
   ]
  },
  {
   "cell_type": "code",
   "execution_count": 13,
   "id": "8382d54e-f1fe-40f4-9ca1-3c25ef80a851",
   "metadata": {},
   "outputs": [],
   "source": [
    "# print(timg_data)"
   ]
  },
  {
   "cell_type": "code",
   "execution_count": 14,
   "id": "fd97718f-8b4f-41d4-b796-0540ca934a4b",
   "metadata": {},
   "outputs": [],
   "source": [
    "timg_data = np.array(timg_data)"
   ]
  },
  {
   "cell_type": "code",
   "execution_count": 15,
   "id": "f1a654f0-2b3b-4082-9819-c8feca52c659",
   "metadata": {},
   "outputs": [
    {
     "name": "stdout",
     "output_type": "stream",
     "text": [
      "[[255 255 255 ... 255 255 255]\n",
      " [255 255 255 ... 255 255 255]\n",
      " [255 255 255 ... 255 255 255]\n",
      " ...\n",
      " [217 217 217 ... 217 217 217]\n",
      " [ 48 128 107 ... 172 207  89]\n",
      " [109 109 109 ...  15  15  15]]\n"
     ]
    }
   ],
   "source": [
    "timg_data = timg_data.reshape(timg_data.shape[0],-1)\n",
    "print(timg_data)"
   ]
  },
  {
   "cell_type": "code",
   "execution_count": 16,
   "id": "a46e09eb-5fd0-4ab8-8b12-10a657fece9d",
   "metadata": {},
   "outputs": [],
   "source": [
    "pred = svmm.predict(timg_data)"
   ]
  },
  {
   "cell_type": "code",
   "execution_count": 19,
   "id": "5b9a160f-7029-4e93-93ea-ac7761fcb556",
   "metadata": {},
   "outputs": [],
   "source": [
    "df = pd.DataFrame(data=pred, columns = ['NameOfPokemon'])\n",
    "df.insert(0, \"ImageId\", ref, True)\n",
    "df.to_csv('goa_svm.csv', index = False)"
   ]
  },
  {
   "cell_type": "code",
   "execution_count": null,
   "id": "cfff75bb-19f9-4036-9935-d4b7395de739",
   "metadata": {},
   "outputs": [],
   "source": []
  }
 ],
 "metadata": {
  "kernelspec": {
   "display_name": "Python 3 (ipykernel)",
   "language": "python",
   "name": "python3"
  },
  "language_info": {
   "codemirror_mode": {
    "name": "ipython",
    "version": 3
   },
   "file_extension": ".py",
   "mimetype": "text/x-python",
   "name": "python",
   "nbconvert_exporter": "python",
   "pygments_lexer": "ipython3",
   "version": "3.9.4"
  }
 },
 "nbformat": 4,
 "nbformat_minor": 5
}
